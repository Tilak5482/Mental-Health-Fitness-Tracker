{
  "nbformat": 4,
  "nbformat_minor": 0,
  "metadata": {
    "colab": {
      "provenance": [],
      "authorship_tag": "ABX9TyNd7AEyQXDyDpGFYXJwxM9K",
      "include_colab_link": true
    },
    "kernelspec": {
      "name": "python3",
      "display_name": "Python 3"
    },
    "language_info": {
      "name": "python"
    }
  },
  "cells": [
    {
      "cell_type": "markdown",
      "metadata": {
        "id": "view-in-github",
        "colab_type": "text"
      },
      "source": [
        "<a href=\"https://colab.research.google.com/github/Kashish-G/Mental-Health-Chatbot-Using-Sentiment-Analysis/blob/main/Mental_Health_Chatbot_With_Sentiment_Analysis.ipynb\" target=\"_parent\"><img src=\"https://colab.research.google.com/assets/colab-badge.svg\" alt=\"Open In Colab\"/></a>"
      ]
    },
    {
      "cell_type": "code",
      "execution_count": 1,
      "metadata": {
        "colab": {
          "base_uri": "https://localhost:8080/"
        },
        "id": "YeiYzQjRaUU7",
        "outputId": "330e6bfb-1c1f-4d15-aac7-03e610ca7e36"
      },
      "outputs": [
        {
          "output_type": "stream",
          "name": "stdout",
          "text": [
            "Looking in indexes: https://pypi.org/simple, https://us-python.pkg.dev/colab-wheels/public/simple/\n",
            "Collecting transformers\n",
            "  Downloading transformers-4.28.1-py3-none-any.whl (7.0 MB)\n",
            "\u001b[2K     \u001b[90m━━━━━━━━━━━━━━━━━━━━━━━━━━━━━━━━━━━━━━━━\u001b[0m \u001b[32m7.0/7.0 MB\u001b[0m \u001b[31m59.0 MB/s\u001b[0m eta \u001b[36m0:00:00\u001b[0m\n",
            "\u001b[?25hRequirement already satisfied: packaging>=20.0 in /usr/local/lib/python3.10/dist-packages (from transformers) (23.1)\n",
            "Collecting huggingface-hub<1.0,>=0.11.0\n",
            "  Downloading huggingface_hub-0.14.1-py3-none-any.whl (224 kB)\n",
            "\u001b[2K     \u001b[90m━━━━━━━━━━━━━━━━━━━━━━━━━━━━━━━━━━━━━━\u001b[0m \u001b[32m224.5/224.5 kB\u001b[0m \u001b[31m27.6 MB/s\u001b[0m eta \u001b[36m0:00:00\u001b[0m\n",
            "\u001b[?25hRequirement already satisfied: regex!=2019.12.17 in /usr/local/lib/python3.10/dist-packages (from transformers) (2022.10.31)\n",
            "Requirement already satisfied: tqdm>=4.27 in /usr/local/lib/python3.10/dist-packages (from transformers) (4.65.0)\n",
            "Requirement already satisfied: requests in /usr/local/lib/python3.10/dist-packages (from transformers) (2.27.1)\n",
            "Requirement already satisfied: numpy>=1.17 in /usr/local/lib/python3.10/dist-packages (from transformers) (1.22.4)\n",
            "Requirement already satisfied: filelock in /usr/local/lib/python3.10/dist-packages (from transformers) (3.12.0)\n",
            "Requirement already satisfied: pyyaml>=5.1 in /usr/local/lib/python3.10/dist-packages (from transformers) (6.0)\n",
            "Collecting tokenizers!=0.11.3,<0.14,>=0.11.1\n",
            "  Downloading tokenizers-0.13.3-cp310-cp310-manylinux_2_17_x86_64.manylinux2014_x86_64.whl (7.8 MB)\n",
            "\u001b[2K     \u001b[90m━━━━━━━━━━━━━━━━━━━━━━━━━━━━━━━━━━━━━━━━\u001b[0m \u001b[32m7.8/7.8 MB\u001b[0m \u001b[31m73.5 MB/s\u001b[0m eta \u001b[36m0:00:00\u001b[0m\n",
            "\u001b[?25hRequirement already satisfied: typing-extensions>=3.7.4.3 in /usr/local/lib/python3.10/dist-packages (from huggingface-hub<1.0,>=0.11.0->transformers) (4.5.0)\n",
            "Requirement already satisfied: fsspec in /usr/local/lib/python3.10/dist-packages (from huggingface-hub<1.0,>=0.11.0->transformers) (2023.4.0)\n",
            "Requirement already satisfied: idna<4,>=2.5 in /usr/local/lib/python3.10/dist-packages (from requests->transformers) (3.4)\n",
            "Requirement already satisfied: urllib3<1.27,>=1.21.1 in /usr/local/lib/python3.10/dist-packages (from requests->transformers) (1.26.15)\n",
            "Requirement already satisfied: certifi>=2017.4.17 in /usr/local/lib/python3.10/dist-packages (from requests->transformers) (2022.12.7)\n",
            "Requirement already satisfied: charset-normalizer~=2.0.0 in /usr/local/lib/python3.10/dist-packages (from requests->transformers) (2.0.12)\n",
            "Installing collected packages: tokenizers, huggingface-hub, transformers\n",
            "Successfully installed huggingface-hub-0.14.1 tokenizers-0.13.3 transformers-4.28.1\n",
            "Looking in indexes: https://pypi.org/simple, https://us-python.pkg.dev/colab-wheels/public/simple/\n",
            "Requirement already satisfied: torch in /usr/local/lib/python3.10/dist-packages (2.0.0+cu118)\n",
            "Requirement already satisfied: jinja2 in /usr/local/lib/python3.10/dist-packages (from torch) (3.1.2)\n",
            "Requirement already satisfied: sympy in /usr/local/lib/python3.10/dist-packages (from torch) (1.11.1)\n",
            "Requirement already satisfied: filelock in /usr/local/lib/python3.10/dist-packages (from torch) (3.12.0)\n",
            "Requirement already satisfied: typing-extensions in /usr/local/lib/python3.10/dist-packages (from torch) (4.5.0)\n",
            "Requirement already satisfied: networkx in /usr/local/lib/python3.10/dist-packages (from torch) (3.1)\n",
            "Requirement already satisfied: triton==2.0.0 in /usr/local/lib/python3.10/dist-packages (from torch) (2.0.0)\n",
            "Requirement already satisfied: lit in /usr/local/lib/python3.10/dist-packages (from triton==2.0.0->torch) (16.0.2)\n",
            "Requirement already satisfied: cmake in /usr/local/lib/python3.10/dist-packages (from triton==2.0.0->torch) (3.25.2)\n",
            "Requirement already satisfied: MarkupSafe>=2.0 in /usr/local/lib/python3.10/dist-packages (from jinja2->torch) (2.1.2)\n",
            "Requirement already satisfied: mpmath>=0.19 in /usr/local/lib/python3.10/dist-packages (from sympy->torch) (1.3.0)\n",
            "Looking in indexes: https://pypi.org/simple, https://us-python.pkg.dev/colab-wheels/public/simple/\n",
            "Requirement already satisfied: textblob in /usr/local/lib/python3.10/dist-packages (0.17.1)\n",
            "Requirement already satisfied: nltk>=3.1 in /usr/local/lib/python3.10/dist-packages (from textblob) (3.8.1)\n",
            "Requirement already satisfied: regex>=2021.8.3 in /usr/local/lib/python3.10/dist-packages (from nltk>=3.1->textblob) (2022.10.31)\n",
            "Requirement already satisfied: tqdm in /usr/local/lib/python3.10/dist-packages (from nltk>=3.1->textblob) (4.65.0)\n",
            "Requirement already satisfied: click in /usr/local/lib/python3.10/dist-packages (from nltk>=3.1->textblob) (8.1.3)\n",
            "Requirement already satisfied: joblib in /usr/local/lib/python3.10/dist-packages (from nltk>=3.1->textblob) (1.2.0)\n",
            "Looking in indexes: https://pypi.org/simple, https://us-python.pkg.dev/colab-wheels/public/simple/\n",
            "Requirement already satisfied: nltk in /usr/local/lib/python3.10/dist-packages (3.8.1)\n",
            "Requirement already satisfied: joblib in /usr/local/lib/python3.10/dist-packages (from nltk) (1.2.0)\n",
            "Requirement already satisfied: regex>=2021.8.3 in /usr/local/lib/python3.10/dist-packages (from nltk) (2022.10.31)\n",
            "Requirement already satisfied: tqdm in /usr/local/lib/python3.10/dist-packages (from nltk) (4.65.0)\n",
            "Requirement already satisfied: click in /usr/local/lib/python3.10/dist-packages (from nltk) (8.1.3)\n"
          ]
        }
      ],
      "source": [
        "!pip install transformers\n",
        "!pip install torch\n",
        "!pip install textblob\n",
        "!pip install nltk\n"
      ]
    },
    {
      "cell_type": "code",
      "source": [
        "import nltk\n",
        "from nltk.chat.util import Chat, reflections\n",
        "nltk.download('punkt')\n",
        "pairs = [\n",
        "    [\n",
        "        r\"hi|hey|hello\",\n",
        "        [\"Hello\", \"Hi there\", \"Hello, how can I help you today?\"]\n",
        "    ],\n",
        "    [\n",
        "        r\"what is your name ?\",\n",
        "        [\"My name is Mental Health Bot, but you can call me MH Bot for short.\"]\n",
        "    ],\n",
        "    [\n",
        "        r\"how are you ?\",\n",
        "        [\"I'm doing well, thank you for asking. How about you?\", \"I'm a machine learning model, so I don't have feelings as humans do. But I'm always here to help you.\"]\n",
        "    ],\n",
        "    [\n",
        "        r\"sorry (.*)\",\n",
        "        [\"It's alright, no worries\", \"No problem at all.\"]\n",
        "    ],\n",
        "    [\n",
        "        r\"i'm (.*) doing good\",\n",
        "        [\"That's great to hear! How can I help you today?\"]\n",
        "    ],\n",
        "    [\n",
        "        r\"i am (.*)\",\n",
        "        [\"That's interesting. Tell me more about yourself.\"]\n",
        "    ],\n",
        "    [\n",
        "        r\"can you help me (.*)\",\n",
        "        [\"Of course! I'll do my best to assist you with whatever you need.\"]\n",
        "    ],\n",
        "    [\n",
        "        r\"(.*) thank you (.*)\",\n",
        "        [\"You're welcome! I'm always here to help.\", \"No problem at all. It's what I'm here for.\"]\n",
        "    ],\n",
        "    [\n",
        "        r\"quit\",\n",
        "        [\"Goodbye for now. Take care!\"]\n",
        "    ]\n",
        "]\n",
        "chatbot = Chat(pairs, reflections)\n"
      ],
      "metadata": {
        "colab": {
          "base_uri": "https://localhost:8080/"
        },
        "id": "wueLuHIFaV1b",
        "outputId": "80628133-e3de-4352-9d85-cfbcd5417da6"
      },
      "execution_count": 20,
      "outputs": [
        {
          "output_type": "stream",
          "name": "stderr",
          "text": [
            "[nltk_data] Downloading package punkt to /root/nltk_data...\n",
            "[nltk_data]   Package punkt is already up-to-date!\n"
          ]
        }
      ]
    },
    {
      "cell_type": "code",
      "source": [
        "from textblob import TextBlob\n",
        "def get_sentiment(text):\n",
        "    blob = TextBlob(text)\n",
        "    sentiment_score = blob.sentiment.polarity\n",
        "    if sentiment_score < -0.5:\n",
        "        return \"very negative\"\n",
        "    elif sentiment_score < 0:\n",
        "        return \"negative\"\n",
        "    elif sentiment_score == 0:\n",
        "        return \"neutral\"\n",
        "    elif sentiment_score <= 0.5:\n",
        "        return \"positive\"\n",
        "    else:\n",
        "        return \"very positive\"\n"
      ],
      "metadata": {
        "id": "pLeOJuncalom"
      },
      "execution_count": 21,
      "outputs": []
    },
    {
      "cell_type": "code",
      "source": [
        "def get_response(input_text):\n",
        "    sentiment = get_sentiment(input_text)\n",
        "    if sentiment == \"very negative\":\n",
        "        return \"I'm sorry to hear that. I would suggest you call on +91 9619121679 and consult our mental health professional\"\n",
        "    elif sentiment == \"negative\":\n",
        "        return \"I'm sorry that you're feeling down. How can I help you feel better?\"\n",
        "    elif sentiment == \"neutral\":\n",
        "        return \"I'm here to listen. Is there anything you'd like to talk about?\"\n",
        "    elif sentiment == \"positive\":\n",
        "        return \"That's great to hear! Is there anything specific you'd like to discuss?\"\n",
        "    elif sentiment == \"very positive\":\n",
        "        return \"I'm glad to hear that you're doing well! Is there anything you'd like to talk about?\"\n"
      ],
      "metadata": {
        "id": "b1T6eIa3an8I"
      },
      "execution_count": 22,
      "outputs": []
    },
    {
      "cell_type": "code",
      "source": [
        "def chat():\n",
        "    print(\"Hi, I'm InfiHeal Bot. How can I help you today?\")\n",
        "    while True:\n",
        "        try:\n",
        "            user_input = input(\"> \")\n",
        "            if user_input.lower() == 'quit':\n",
        "                print(chatbot.respond(user_input))\n",
        "                break\n",
        "            else:\n",
        "                response = get_response(user_input)\n",
        "                sentiment = get_sentiment(response)\n",
        "                print(response)\n",
        "                print(f\"Sentiment: {sentiment}\")\n",
        "        except Exception as e:\n",
        "            print(\"Error: \", str(e))\n"
      ],
      "metadata": {
        "id": "y-dz_SYvaqUY"
      },
      "execution_count": 23,
      "outputs": []
    },
    {
      "cell_type": "code",
      "source": [
        "chat()"
      ],
      "metadata": {
        "colab": {
          "base_uri": "https://localhost:8080/"
        },
        "id": "w5CRSFQIarbV",
        "outputId": "91fce006-56e4-47b3-f49f-5eed7a618ca4"
      },
      "execution_count": 26,
      "outputs": [
        {
          "output_type": "stream",
          "name": "stdout",
          "text": [
            "Hi, I'm InfiHeal Bot. How can I help you today?\n",
            "> Hey\n",
            "I'm here to listen. Is there anything you'd like to talk about?\n",
            "Sentiment: neutral\n",
            "> I am sad\n",
            "I'm sorry that you're feeling down. How can I help you feel better?\n",
            "Sentiment: negative\n",
            "> My dad is sick\n",
            "I'm sorry to hear that. I would suggest you call on +91 9619121679 and consult our mental health professional\n",
            "Sentiment: negative\n",
            "> No I want to talk to you\n",
            "I'm here to listen. Is there anything you'd like to talk about?\n",
            "Sentiment: neutral\n",
            "> Yes, I am feeling helpless\n",
            "I'm here to listen. Is there anything you'd like to talk about?\n",
            "Sentiment: neutral\n",
            "> Nothing I am feeling better now, thank you\n",
            "That's great to hear! Is there anything specific you'd like to discuss?\n",
            "Sentiment: positive\n",
            "> No Bye\n",
            "I'm here to listen. Is there anything you'd like to talk about?\n",
            "Sentiment: neutral\n",
            "> Quit\n",
            "Goodbye for now. Take care!\n"
          ]
        }
      ]
    }
  ]
}
